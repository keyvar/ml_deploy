{
 "cells": [
  {
   "cell_type": "code",
   "execution_count": 49,
   "id": "e419bf31-7c50-493a-a923-d6ec49294f02",
   "metadata": {},
   "outputs": [],
   "source": [
    "class Subset:\n",
    "    def __init__(self, parent, rank):\n",
    "        self.parent = parent\n",
    "        self.rank = rank\n",
    "\n",
    "def find_subset(subsets, i):\n",
    "    if subsets[i].parent != i:\n",
    "        subsets[i].parent = find_subset(subsets, subsets[i].parent)\n",
    "    return subsets[i].parent\n",
    "\n",
    "def union(subsets, i, j):\n",
    "    if subsets[i].rank > subsets[j].rank:\n",
    "        subsets[j].parent = i\n",
    "    elif subsets[i].rank < subsets[j].rank:\n",
    "        subsets[i].parent = j\n",
    "    else:\n",
    "        subsets[i].parent = j\n",
    "        subsets[j].rank += 1\n",
    "    \n",
    "def iscyclic(G):\n",
    "    V = set()\n",
    "    for i in G:\n",
    "        V.add(i)\n",
    "        for j in G[i]:\n",
    "            V.add(j)\n",
    "    subsets = [Subset(i, 0) for i in range(len(V))]    \n",
    "    for i in G:\n",
    "        x = find_subset(subsets, i)\n",
    "        for j in G[i]:     \n",
    "            y = find_subset(subsets, j)\n",
    "            if x == y:\n",
    "                return True\n",
    "            union(subsets, x, y)\n",
    "    return False"
   ]
  },
  {
   "cell_type": "code",
   "execution_count": 51,
   "id": "8c1247eb-905d-4bce-aa31-9affef2d4367",
   "metadata": {},
   "outputs": [
    {
     "data": {
      "text/plain": [
       "True"
      ]
     },
     "execution_count": 51,
     "metadata": {},
     "output_type": "execute_result"
    }
   ],
   "source": [
    "iscyclic({0:[1], 1:[2], 2:[1], 3:[2]})"
   ]
  },
  {
   "cell_type": "code",
   "execution_count": null,
   "id": "37072489-8f6d-4021-a5a6-bbbf2aae3c99",
   "metadata": {},
   "outputs": [],
   "source": []
  }
 ],
 "metadata": {
  "kernelspec": {
   "display_name": "Python 3 (ipykernel)",
   "language": "python",
   "name": "python3"
  },
  "language_info": {
   "codemirror_mode": {
    "name": "ipython",
    "version": 3
   },
   "file_extension": ".py",
   "mimetype": "text/x-python",
   "name": "python",
   "nbconvert_exporter": "python",
   "pygments_lexer": "ipython3",
   "version": "3.9.7"
  }
 },
 "nbformat": 4,
 "nbformat_minor": 5
}
